{
 "cells": [
  {
   "cell_type": "code",
   "execution_count": 2,
   "id": "bce023d0",
   "metadata": {},
   "outputs": [
    {
     "name": "stdout",
     "output_type": "stream",
     "text": [
      "Not enough matches are found - 7/10\n",
      "Not enough matches are found - 8/10\n",
      "Not enough matches are found - 10/10\n",
      "Not enough matches are found - 7/10\n",
      "Not enough matches are found - 10/10\n",
      "Not enough matches are found - 6/10\n"
     ]
    },
    {
     "ename": "",
     "evalue": "",
     "output_type": "error",
     "traceback": [
      "\u001b[1;31mThe Kernel crashed while executing code in the current cell or a previous cell. \n",
      "\u001b[1;31mPlease review the code in the cell(s) to identify a possible cause of the failure. \n",
      "\u001b[1;31mClick <a href='https://aka.ms/vscodeJupyterKernelCrash'>here</a> for more info. \n",
      "\u001b[1;31mView Jupyter <a href='command:jupyter.viewOutput'>log</a> for further details."
     ]
    }
   ],
   "source": [
    "import cv2\n",
    "import numpy as np\n",
    "\n",
    "cap = cv2.VideoCapture(0)\n",
    "img = cv2.imread(\"sources/swap.jpg\", cv2.IMREAD_GRAYSCALE)\n",
    "\n",
    "MIN_MATCH_COUNT = 10\n",
    "sift = cv2.SIFT_create()\n",
    "kp_t, des_t = sift.detectAndCompute(img, None)\n",
    "if des_t is not None and des_t.dtype != np.float32:\n",
    "  des_t = des_t.astype(np.float32)\n",
    "\n",
    "FLANN_INDEX_KDTREE = 1\n",
    "index_params = dict(algorithm = FLANN_INDEX_KDTREE, trees = 5)\n",
    "search_params = dict(checks = 50)\n",
    "flann = cv2.FlannBasedMatcher(index_params, search_params)\n",
    "\n",
    "while (cap.isOpened()):\n",
    "  ret, frame = cap.read()\n",
    "  if not ret:\n",
    "    break\n",
    "  \n",
    "  img2 = cv2.cvtColor(frame, cv2.COLOR_BGR2GRAY)\n",
    "  kp_f, des_f = sift.detectAndCompute(img2, None)\n",
    "  if des_f is None or des_t is None:\n",
    "    cv2.imshow(\"img3\", frame)\n",
    "    if cv2.waitKey(1) & 0xFF == ord('q'):\n",
    "      break\n",
    "    continue\n",
    "  if des_f.dtype != np.float32:\n",
    "    des_f = des_f.astype(np.float32)\n",
    "\n",
    "  matches = flann.knnMatch(des_t, des_f, k=2)\n",
    "  good = []\n",
    "  for m,n in matches:\n",
    "    if m.distance < 0.7*n.distance:\n",
    "      good.append(m)\n",
    "  if len(good) > MIN_MATCH_COUNT:\n",
    "    src_pts = np.float32([ kp_t[m.queryIdx].pt for m in good ]).reshape(-1,1,2)\n",
    "    dst_pts = np.float32([ kp_f[m.trainIdx].pt for m in good ]).reshape(-1,1,2)\n",
    "    M, mask = cv2.findHomography(src_pts, dst_pts, cv2.RANSAC, 5.0)\n",
    "    if mask is not None:\n",
    "      matchesMask = mask.ravel().tolist()\n",
    "    else:\n",
    "      matchesMask = None\n",
    "    h,w = img.shape\n",
    "    pts = np.float32([ [0,0],[0,h-1],[w-1,h-1],[w-1,0] ]).reshape(-1,1,2)\n",
    "    if M is not None:\n",
    "      dst = cv2.perspectiveTransform(pts,M)\n",
    "      frame = cv2.polylines(frame,[np.int32(dst)],True,255,3, cv2.LINE_AA)\n",
    "  else:\n",
    "    print(\"Not enough matches are found - %d/%d\" % (len(good), MIN_MATCH_COUNT))\n",
    "    matchesMask = None\n",
    "\n",
    "  draw_params = dict(matchColor = (0,255,0), singlePointColor = None, matchesMask = matchesMask, flags = 2)\n",
    "  img3 = cv2.drawMatches(img,kp_t,img2,kp_f,good,None,**draw_params)\n",
    "  cv2.imshow(\"img3\", img3)\n",
    "  if cv2.waitKey(1) & 0xFF == ord('q'):\n",
    "    break\n",
    "\n",
    "cap.release()\n",
    "cv2.destroyAllWindows()"
   ]
  }
 ],
 "metadata": {
  "kernelspec": {
   "display_name": "Python 3",
   "language": "python",
   "name": "python3"
  },
  "language_info": {
   "codemirror_mode": {
    "name": "ipython",
    "version": 3
   },
   "file_extension": ".py",
   "mimetype": "text/x-python",
   "name": "python",
   "nbconvert_exporter": "python",
   "pygments_lexer": "ipython3",
   "version": "3.11.13"
  }
 },
 "nbformat": 4,
 "nbformat_minor": 5
}
